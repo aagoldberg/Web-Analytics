{
 "cells": [
  {
   "cell_type": "markdown",
   "metadata": {},
   "source": [
    " ## Week 5, Part 2 Assignment\n",
    " #### Group 4\n",
    " ##### Rough Draft"
   ]
  },
  {
   "cell_type": "code",
   "execution_count": null,
   "metadata": {
    "collapsed": true
   },
   "outputs": [],
   "source": [
    "import os\n",
    "import nltk\n",
    "\n",
    "spamfolder = '/Users/andrew/Documents/School/Web Analytics/HW4/enron1/spam'\n",
    "spamdata = []\n",
    "for filename in os.listdir(spamfolder):\n",
    "    with open(spamfolder+'/'+filename) as spamtext:\n",
    "        spamtext = spamtext.read()\n",
    "        spamtext = spamtext.decode('UTF8', errors='ignore')\n",
    "        spamdata.append(spamtext)\n",
    "        #spamdata.append(spamtext.read())\n",
    "        \n",
    "hamfolder = '/Users/andrew/Documents/School/Web Analytics/HW4/enron1/ham'\n",
    "hamdata = []\n",
    "for filename in os.listdir(hamfolder):\n",
    "    with open(hamfolder+'/'+filename) as hamtext:\n",
    "        hamtext = hamtext.read()\n",
    "        hamtext = hamtext.decode('UTF8', errors='ignore')\n",
    "        hamdata.append(hamtext)"
   ]
  },
  {
   "cell_type": "code",
   "execution_count": 141,
   "metadata": {},
   "outputs": [
    {
     "data": {
      "text/plain": [
       "unicode"
      ]
     },
     "execution_count": 141,
     "metadata": {},
     "output_type": "execute_result"
    }
   ],
   "source": [
    "type(spamdata[1])"
   ]
  },
  {
   "cell_type": "code",
   "execution_count": 137,
   "metadata": {},
   "outputs": [
    {
     "data": {
      "text/plain": [
       "'Subject: vastar resources , inc .\\r\\ngary , production from the high island larger block a - 1 # 2 commenced on\\r\\nsaturday at 2 : 00 p . m . at about 6 , 500 gross . carlos expects between 9 , 500 and\\r\\n10 , 000 gross for tomorrow . vastar owns 68 % of the gross production .\\r\\ngeorge x 3 - 6992\\r\\n- - - - - - - - - - - - - - - - - - - - - - forwarded by george weissman / hou / ect on 12 / 13 / 99 10 : 16\\r\\nam - - - - - - - - - - - - - - - - - - - - - - - - - - -\\r\\ndaren j farmer\\r\\n12 / 10 / 99 10 : 38 am\\r\\nto : carlos j rodriguez / hou / ect @ ect\\r\\ncc : george weissman / hou / ect @ ect , melissa graves / hou / ect @ ect\\r\\nsubject : vastar resources , inc .\\r\\ncarlos ,\\r\\nplease call linda and get everything set up .\\r\\ni \\' m going to estimate 4 , 500 coming up tomorrow , with a 2 , 000 increase each\\r\\nfollowing day based on my conversations with bill fischer at bmar .\\r\\nd .\\r\\n- - - - - - - - - - - - - - - - - - - - - - forwarded by daren j farmer / hou / ect on 12 / 10 / 99 10 : 34\\r\\nam - - - - - - - - - - - - - - - - - - - - - - - - - - -\\r\\nenron north america corp .\\r\\nfrom : george weissman 12 / 10 / 99 10 : 00 am\\r\\nto : daren j farmer / hou / ect @ ect\\r\\ncc : gary bryan / hou / ect @ ect , melissa graves / hou / ect @ ect\\r\\nsubject : vastar resources , inc .\\r\\ndarren ,\\r\\nthe attached appears to be a nomination from vastar resources , inc . for the\\r\\nhigh island larger block a - 1 # 2 ( previously , erroneously referred to as the\\r\\n# 1 well ) . vastar now expects the well to commence production sometime\\r\\ntomorrow . i told linda harris that we \\' d get her a telephone number in gas\\r\\ncontrol so she can provide notification of the turn - on tomorrow . linda \\' s\\r\\nnumbers , for the record , are 281 . 584 . 3359 voice and 713 . 312 . 1689 fax .\\r\\nwould you please see that someone contacts linda and advises her how to\\r\\nsubmit future nominations via e - mail , fax or voice ? thanks .\\r\\ngeorge x 3 - 6992\\r\\n- - - - - - - - - - - - - - - - - - - - - - forwarded by george weissman / hou / ect on 12 / 10 / 99 09 : 44\\r\\nam - - - - - - - - - - - - - - - - - - - - - - - - - - -\\r\\n\" linda harris \" on 12 / 10 / 99 09 : 38 : 43 am\\r\\nto : george weissman / hou / ect @ ect\\r\\ncc :\\r\\nsubject : hi a - 1 # 2\\r\\neffective 12 - 11 - 99\\r\\n| - - - - - - - - + - - - - - - - - - - + - - - - - - - - - - - |\\r\\n| | | |\\r\\n| mscf / d | min ftp | time |\\r\\n| | | |\\r\\n| - - - - - - - - + - - - - - - - - - - + - - - - - - - - - - - |\\r\\n| | | |\\r\\n| 4 , 500 | 9 , 925 | 24 hours |\\r\\n| | | |\\r\\n| - - - - - - - - + - - - - - - - - - - + - - - - - - - - - - - |\\r\\n| | | |\\r\\n| 6 , 000 | 9 , 908 | 24 hours |\\r\\n| | | |\\r\\n| - - - - - - - - + - - - - - - - - - - + - - - - - - - - - - - |\\r\\n| | | |\\r\\n| 8 , 000 | 9 , 878 | 24 hours |\\r\\n| | | |\\r\\n| - - - - - - - - + - - - - - - - - - - + - - - - - - - - - - - |\\r\\n| | | |\\r\\n| 10 , 000 | 9 , 840 | 24 hours |\\r\\n| | | |\\r\\n| - - - - - - - - + - - - - - - - - - - + - - - - - - - - - - - |\\r\\n| | | |\\r\\n| 12 , 000 | 9 , 793 | 24 hours |\\r\\n| | | |\\r\\n| - - - - - - - - + - - - - - - - - - - + - - - - - - - - - - - |\\r\\n| | | |\\r\\n| 14 , 000 | 9 , 738 | 24 hours |\\r\\n| | | |\\r\\n| - - - - - - - - + - - - - - - - - - - + - - - - - - - - - - - |\\r\\n| | | |\\r\\n| 16 , 000 | 9 , 674 | 24 hours |\\r\\n| | | |\\r\\n| - - - - - - - - + - - - - - - - - - - + - - - - - - - - - - - |\\r\\n| | | |\\r\\n| 18 , 000 | 9 , 602 | 24 hours |\\r\\n| | | |\\r\\n| - - - - - - - - + - - - - - - - - - - + - - - - - - - - - - - |\\r\\n| | | |\\r\\n| 20 , 000 | 9 , 521 | 24 hours |\\r\\n| | | |\\r\\n| - - - - - - - - + - - - - - - - - - - + - - - - - - - - - - - |\\r\\n| | | |\\r\\n| 22 , 000 | 9 , 431 | 24 hours |\\r\\n| | | |\\r\\n| - - - - - - - - + - - - - - - - - - - + - - - - - - - - - - - |\\r\\n| | | |\\r\\n| 24 , 000 | 9 , 332 | 24 hours |\\r\\n| | | |\\r\\n| - - - - - - - - + - - - - - - - - - - + - - - - - - - - - - - |\\r\\n| | | |\\r\\n| 26 , 000 | 9 , 224 | 24 hours |\\r\\n| | | |\\r\\n| - - - - - - - - + - - - - - - - - - - + - - - - - - - - - - - |\\r\\n| | | |\\r\\n| 28 , 000 | 9 , 108 | 24 hours |\\r\\n| | | |\\r\\n| - - - - - - - - + - - - - - - - - - - + - - - - - - - - - - - |\\r\\n| | | |\\r\\n| 30 , 000 | 8 , 982 | 24 hours |\\r\\n| | | |\\r\\n| - - - - - - - - + - - - - - - - - - - + - - - - - - - - - - - |\\r\\n| | | |\\r\\n| 32 , 000 | 8 , 847 | 24 hours |\\r\\n| | | |\\r\\n| - - - - - - - - + - - - - - - - - - - + - - - - - - - - - - - |\\r\\n| | | |\\r\\n| 34 , 000 | 8 , 703 | 24 hours |\\r\\n| | | |\\r\\n| - - - - - - - - + - - - - - - - - - - + - - - - - - - - - - - |\\r\\n| | | |\\r\\n| 36 , 000 | 8 , 549 | 24 hours |\\r\\n| | | |\\r\\n| - - - - - - - - + - - - - - - - - - - + - - - - - - - - - - - |'"
      ]
     },
     "execution_count": 137,
     "metadata": {},
     "output_type": "execute_result"
    }
   ],
   "source": [
    "hamdata[1]"
   ]
  },
  {
   "cell_type": "code",
   "execution_count": 142,
   "metadata": {},
   "outputs": [],
   "source": [
    "labeled_emails = ([(ham_mail.split(), 'ham') for ham_mail in hamdata] +\n",
    "                  [(spam_mail.split(), 'spam') for spam_mail in spamdata])\n",
    "import random\n",
    "random.shuffle(labeled_emails)\n",
    "\n",
    "all_emails = [email for email, classifcation in labeled_emails]"
   ]
  },
  {
   "cell_type": "code",
   "execution_count": 162,
   "metadata": {},
   "outputs": [],
   "source": [
    "flattened = []\n",
    "for email in all_emails:\n",
    "    for word in email:\n",
    "        flattened.append(word)\n",
    "\n",
    "tokenized_emails = []\n",
    "for word in flattened:\n",
    "        tokenized_emails.extend(nltk.word_tokenize(word))"
   ]
  },
  {
   "cell_type": "code",
   "execution_count": 163,
   "metadata": {},
   "outputs": [
    {
     "data": {
      "text/plain": [
       "[u'Subject',\n",
       " u':',\n",
       " u'bounce',\n",
       " u'skel',\n",
       " u'@',\n",
       " u'iit',\n",
       " u'.',\n",
       " u'demokritos',\n",
       " u'.',\n",
       " u'gr',\n",
       " u':',\n",
       " u'non',\n",
       " u'-',\n",
       " u'member',\n",
       " u'submission',\n",
       " u'from',\n",
       " u'[',\n",
       " u'washington',\n",
       " u'.',\n",
       " u'mutual',\n",
       " u',',\n",
       " u'``',\n",
       " u'inc',\n",
       " u'.',\n",
       " u'``',\n",
       " u']',\n",
       " u'from',\n",
       " u'paliourg',\n",
       " u'@',\n",
       " u'iit']"
      ]
     },
     "execution_count": 163,
     "metadata": {},
     "output_type": "execute_result"
    }
   ],
   "source": [
    "tokenized_emails[:30]"
   ]
  },
  {
   "cell_type": "code",
   "execution_count": 168,
   "metadata": {},
   "outputs": [],
   "source": [
    "word_freq = nltk.FreqDist(w for w in tokenized_emails)\n",
    "top_words = list(word_freq)[:2000]"
   ]
  },
  {
   "cell_type": "code",
   "execution_count": 169,
   "metadata": {
    "collapsed": true
   },
   "outputs": [],
   "source": [
    "def document_features(document):\n",
    "    document_words = set(document)\n",
    "    features = {}\n",
    "    for word in top_words:\n",
    "        features['contains({})'.format(word)] = (word in document_words)\n",
    "    return features"
   ]
  },
  {
   "cell_type": "markdown",
   "metadata": {},
   "source": [
    " ## Train Classifier"
   ]
  },
  {
   "cell_type": "code",
   "execution_count": 178,
   "metadata": {
    "collapsed": true
   },
   "outputs": [],
   "source": [
    "featuresets = [(document_features(d), c) for (d,c) in labeled_emails]\n",
    "train_set, test_set = featuresets[200:], featuresets[:200]\n",
    "classifier = nltk.NaiveBayesClassifier.train(train_set)"
   ]
  },
  {
   "cell_type": "code",
   "execution_count": 179,
   "metadata": {},
   "outputs": [
    {
     "name": "stdout",
     "output_type": "stream",
     "text": [
      "0.85\n",
      "Most Informative Features\n",
      "       contains(effects) = True             spam : ham    =     39.5 : 1.0\n",
      "    contains(affiliated) = True             spam : ham    =     37.9 : 1.0\n",
      "    contains(aggressive) = True             spam : ham    =     37.9 : 1.0\n",
      "         contains(boost) = True             spam : ham    =     34.7 : 1.0\n",
      "       contains(watches) = True             spam : ham    =     28.2 : 1.0\n"
     ]
    }
   ],
   "source": [
    "print(nltk.classify.accuracy(classifier, test_set))\n",
    "classifier.show_most_informative_features(5)"
   ]
  },
  {
   "cell_type": "code",
   "execution_count": null,
   "metadata": {
    "collapsed": true
   },
   "outputs": [],
   "source": []
  }
 ],
 "metadata": {
  "kernelspec": {
   "display_name": "Python 2",
   "language": "python",
   "name": "python2"
  },
  "language_info": {
   "codemirror_mode": {
    "name": "ipython",
    "version": 2
   },
   "file_extension": ".py",
   "mimetype": "text/x-python",
   "name": "python",
   "nbconvert_exporter": "python",
   "pygments_lexer": "ipython2",
   "version": "2.7.13"
  }
 },
 "nbformat": 4,
 "nbformat_minor": 2
}
